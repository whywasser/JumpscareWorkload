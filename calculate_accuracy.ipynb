{
 "cells": [
  {
   "cell_type": "code",
   "execution_count": 2,
   "metadata": {},
   "outputs": [],
   "source": [
    "import pandas as pd"
   ]
  },
  {
   "cell_type": "code",
   "execution_count": 69,
   "metadata": {},
   "outputs": [],
   "source": [
    "\n",
    "\n",
    "def remove_items(test_list, item): \n",
    "  \n",
    "    # using list comprehension to perform the task \n",
    "    res = [i for i in test_list if i != item] \n",
    "    return res \n",
    "participants = [\"010\",\"015\",\"016\",\"017\",\"018\",\"019\",\"023\",\"024\",\"025\",\"045\",\"311\",\"317\",\"320\",\"323\",\"333\",\"337\",\"338\",\"342\",\"348\",\"350\",\"351\"]\n",
    "filepath = \"/Users/linaweingartner/Desktop/Bachelor/Data/HorrorStudyData/\"\n",
    "index = [*range(0, 86, 1)]\n",
    "accuracies = []\n",
    "manikin = []\n",
    "tlxlist = []\n",
    "tlx_nophyslist = []\n",
    "rtlist = []\n",
    "for participant in participants:\n",
    "    accuracy_path = filepath + participant + \"/\" + participant + \"_accuracy.csv\"\n",
    "    accuracy_file = pd.read_csv(accuracy_path, header = None)\n",
    "    accuracy = accuracy_file.iloc[:,0].to_list()\n",
    "    mistakes = accuracy.count(-1)\n",
    "    acc_proportion = 1 - (mistakes/len(accuracy))\n",
    "    subjective_path = filepath + participant + \"/\" + participant + \"_SQ.csv\"\n",
    "    subjective_file = pd.read_csv(subjective_path, header = None, on_bad_lines = \"skip\")\n",
    "    arousal_manikin = subjective_file.iloc[0,0]\n",
    "    tlx = subjective_file.iloc[1:7,0].to_list()\n",
    "    int_tlx = [int(i) for i in tlx]\n",
    "    nophys = int_tlx[2:6]\n",
    "    nophys.append(int_tlx[0])\n",
    "    raw_tlx = sum(int_tlx)\n",
    "    raw_tlx_nophys = sum(nophys)\n",
    "    accuracies.append(acc_proportion)\n",
    "    manikin.append(arousal_manikin)\n",
    "    tlxlist.append(raw_tlx)\n",
    "    tlx_nophyslist.append(raw_tlx_nophys)\n",
    "    rt_path = filepath + participant + \"/\" + participant + \"_RT.csv\"\n",
    "    rt_file = pd.read_csv(rt_path, header = None)\n",
    "    rts = rt_file.iloc[:,0].to_list()\n",
    "    rts = remove_items(rts, 3000)\n",
    "    rt = sum(rts)/len(rts)\n",
    "    rtlist.append(rt)\n",
    "header = [\"ParticipantID\", \"Accuracy\", \"SAM_Arousal\", \"RawTLX\", \"RawTLX_NoPhys\", \"Reaction Time\"]\n",
    "df = pd.DataFrame([participants, accuracies, manikin, tlxlist, tlx_nophyslist, rtlist]).T\n",
    "df.columns = header\n",
    "df.to_csv(\"/Users/linaweingartner/Desktop/Bachelor/Data/self_report_data.csv\")"
   ]
  },
  {
   "cell_type": "code",
   "execution_count": 70,
   "metadata": {},
   "outputs": [
    {
     "name": "stdout",
     "output_type": "stream",
     "text": [
      "   ParticipantID  Accuracy SAM_Arousal RawTLX RawTLX_NoPhys Reaction Time\n",
      "0            010  0.988506           8     40            39      0.419005\n",
      "1            015  0.988506           5     15            12      0.391858\n",
      "2            016       1.0           8     20            19      0.453125\n",
      "3            017       1.0           6     21            20      0.522115\n",
      "4            018  0.977011           5     40            38      0.357278\n",
      "5            019  0.988506           4     33            32      0.380978\n",
      "6            023  0.988506           3     34            26      0.454165\n",
      "7            024  0.988506           5     33            30      0.415656\n",
      "8            025  0.988506           6     40            32      0.385445\n",
      "9            045       1.0           6     11            10      0.554613\n",
      "10           311  0.862069           6     66            62      0.644563\n",
      "11           317   0.91954           7     54            53      0.674547\n",
      "12           320  0.574713           5     78            77      0.480244\n",
      "13           323  0.827586           7     86            83      0.708406\n",
      "14           333  0.885057           7     86            83      0.645468\n",
      "15           337  0.896552           8     64            63      1.325034\n",
      "16           338   0.83908           7     95            88      0.967239\n",
      "17           342   0.83908           5     75            69      1.133218\n",
      "18           348  0.977011           6     82            76      0.684799\n",
      "19           350  0.586207           3     63            59      0.703781\n",
      "20           351  0.885057           8     83            82      0.917689\n"
     ]
    }
   ],
   "source": [
    "print(df)"
   ]
  },
  {
   "cell_type": "code",
   "execution_count": 47,
   "metadata": {},
   "outputs": [],
   "source": [
    "nophys = int_tlx[2:6]\n",
    "nophys.append(int_tlx[0])"
   ]
  },
  {
   "cell_type": "code",
   "execution_count": 48,
   "metadata": {},
   "outputs": [
    {
     "name": "stdout",
     "output_type": "stream",
     "text": [
      "[8, 6, 7, 17, 1]\n"
     ]
    }
   ],
   "source": [
    "print(nophys)"
   ]
  }
 ],
 "metadata": {
  "kernelspec": {
   "display_name": ".venv",
   "language": "python",
   "name": "python3"
  },
  "language_info": {
   "codemirror_mode": {
    "name": "ipython",
    "version": 3
   },
   "file_extension": ".py",
   "mimetype": "text/x-python",
   "name": "python",
   "nbconvert_exporter": "python",
   "pygments_lexer": "ipython3",
   "version": "3.11.6"
  }
 },
 "nbformat": 4,
 "nbformat_minor": 2
}
